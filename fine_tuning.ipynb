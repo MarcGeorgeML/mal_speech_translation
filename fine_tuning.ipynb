{
 "cells": [
  {
   "cell_type": "markdown",
   "id": "b1166d45",
   "metadata": {},
   "source": [
    "### Loading the common_voice_11_0 dataset"
   ]
  },
  {
   "cell_type": "code",
   "execution_count": null,
   "id": "2f3a99e2",
   "metadata": {},
   "outputs": [],
   "source": [
    "from datasets import load_dataset\n",
    "from torch.utils.data.sampler import BatchSampler, RandomSampler\n",
    "\n",
    "\n",
    "dataset = load_dataset(\"mozilla-foundation/common_voice_11_0\",\n",
    "                       \"ml\",\n",
    "                       split=\"train\")\n",
    "batch_sampler = BatchSampler(RandomSampler(dataset),\n",
    "                             batch_size=32,\n",
    "                             drop_last=False)\n",
    "dataloader = DatalLoader(data)"
   ]
  }
 ],
 "metadata": {
  "kernelspec": {
   "display_name": "mals2t",
   "language": "python",
   "name": "python3"
  },
  "language_info": {
   "name": "python",
   "version": "3.10.18"
  }
 },
 "nbformat": 4,
 "nbformat_minor": 5
}
