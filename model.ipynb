{
 "cells": [
  {
   "cell_type": "code",
   "execution_count": null,
   "id": "e6d2e05c",
   "metadata": {},
   "outputs": [],
   "source": [
    "import torch\n",
    "\n",
    "if torch.cuda.is_available():\n",
    "    print(\"CUDA is available. GPU in use:\", torch.cuda.get_device_name(0))\n",
    "else:\n",
    "    print(\"CUDA is NOT available. Using CPU.\")"
   ]
  },
  {
   "cell_type": "code",
   "execution_count": null,
   "id": "ca388558",
   "metadata": {},
   "outputs": [],
   "source": [
    "import psutil\n",
    "import torch\n",
    "\n",
    "# RAM\n",
    "print(\"RAM Used (GB):\", psutil.virtual_memory().used / 1e9)\n",
    "\n",
    "# VRAM (if using CUDA)\n",
    "if torch.cuda.is_available():\n",
    "    print(\"VRAM Used (GB):\", torch.cuda.memory_allocated() / 1e9)"
   ]
  },
  {
   "cell_type": "code",
   "execution_count": null,
   "id": "9e77ba06",
   "metadata": {},
   "outputs": [],
   "source": [
    "import torch\n",
    "torch.cuda.empty_cache()"
   ]
  },
  {
   "cell_type": "markdown",
   "id": "dfb9799d",
   "metadata": {},
   "source": [
    "### Loading the model and transcribing the sample_audio"
   ]
  },
  {
   "cell_type": "code",
   "execution_count": 2,
   "id": "354b5df1",
   "metadata": {},
   "outputs": [
    {
     "data": {
      "application/vnd.jupyter.widget-view+json": {
       "model_id": "6e7de15a07a34d97afcb3c31fa6aa15f",
       "version_major": 2,
       "version_minor": 0
      },
      "text/plain": [
       "Fetching 4 files:   0%|          | 0/4 [00:00<?, ?it/s]"
      ]
     },
     "metadata": {},
     "output_type": "display_data"
    },
    {
     "ename": "",
     "evalue": "",
     "output_type": "error",
     "traceback": [
      "\u001b[1;31mThe Kernel crashed while executing code in the current cell or a previous cell. \n",
      "\u001b[1;31mPlease review the code in the cell(s) to identify a possible cause of the failure. \n",
      "\u001b[1;31mClick <a href='https://aka.ms/vscodeJupyterKernelCrash'>here</a> for more info. \n",
      "\u001b[1;31mView Jupyter <a href='command:jupyter.viewOutput'>log</a> for further details."
     ]
    }
   ],
   "source": [
    "# c2t model loading example\n",
    "import whisper_s2t\n",
    "from whisper_s2t.backends.ctranslate2.model import BEST_ASR_CONFIG\n",
    "\n",
    "\n",
    "# model_kwargs = {\n",
    "#     'device': 'cpu',  # Use 'cpu' if you don't have a GPU\n",
    "#     'compute_type': 'int8', # Note int8 is only supported for CTranslate2 backend, for others only float16 is supported for lower precision.\n",
    "#     'asr_options': BEST_ASR_CONFIG\n",
    "# }\n",
    "\n",
    "\n",
    "\n",
    "ct2_model = whisper_s2t.load_model(\n",
    "    model_identifier=\"medium\", \n",
    "    backend='CTranslate2', \n",
    "    compute_type='int8',  # Best for CUDA\n",
    "    device='cpu',\n",
    "    asr_options=BEST_ASR_CONFIG,\n",
    ")"
   ]
  },
  {
   "cell_type": "code",
   "execution_count": null,
   "id": "6be10c0e",
   "metadata": {},
   "outputs": [],
   "source": [
    "\n",
    "# audio_path = \"test2.wav\"\n",
    "# files = [audio_path]\n",
    "# lang_codes = ['ml']\n",
    "# initial_prompts = [None]\n",
    "# # Direct Malayalam-to-English translation\n",
    "# tasks = ['translate']\n",
    "\n",
    "# ct2_out = ct2_model.transcribe_with_vad(\n",
    "#     files,\n",
    "#     lang_codes=lang_codes,\n",
    "#     tasks=tasks,\n",
    "#     initial_prompts=initial_prompts,\n",
    "#     batch_size=16\n",
    "# )\n",
    "\n",
    "# # segments = ct2_out[0]  # Get the segments from the first file's output\n",
    "\n",
    "# # cleaned_segments = [\n",
    "# #     seg.text for seg in segments\n",
    "# #     if getattr(seg, \"avg_logprob\", None) is not None and seg.avg_logprob > -1.0 and getattr(seg, \"no_speech_prob\", 1.0) < 0.5\n",
    "# # ]\n",
    "# # cleaned_transcript = \" \".join(cleaned_segments)\n",
    "\n",
    "# print(\"c2t English translation:\")\n",
    "# print(ct2_out[0][0])   # English text"
   ]
  },
  {
   "cell_type": "code",
   "execution_count": null,
   "id": "718e5921",
   "metadata": {},
   "outputs": [],
   "source": [
    "import importlib\n",
    "import soundfile as sf\n",
    "import preprocess \n",
    "importlib.reload(preprocess)\n",
    "\n",
    "output_path = \"output.wav\"\n",
    "audio_path = \"test2.wav\"\n",
    "\n",
    "audio, sr = preprocess.preprocess_audio(\n",
    "    \"test2.wav\",\n",
    "    \"output.wav\",\n",
    ")\n"
   ]
  },
  {
   "cell_type": "code",
   "execution_count": null,
   "id": "1886a510",
   "metadata": {},
   "outputs": [],
   "source": [
    "lang_codes = ['ml']\n",
    "initial_prompts = [None]\n",
    "# Direct Malayalam-to-English translation\n",
    "tasks = ['translate']\n",
    "\n",
    "\n",
    "files = [\"output.wav\"]\n",
    "    \n",
    "ct2_out = ct2_model.transcribe_with_vad(\n",
    "        files,\n",
    "        lang_codes=lang_codes,\n",
    "        tasks=tasks,\n",
    "        initial_prompts=initial_prompts,\n",
    "        batch_size=16\n",
    "    )\n",
    "\n",
    "    # cleaned_segments = [\n",
    "    #     seg.text for seg in segments\n",
    "    #     if getattr(seg, \"avg_logprob\", None) is not None and seg.avg_logprob > -1.0 and getattr(seg, \"no_speech_prob\", 1.0) < 0.5\n",
    "    # ]\n",
    "    # cleaned_transcript = \" \".join(cleaned_segments)\n",
    "\n",
    "print(\"c2t English translation:\")\n",
    "print(ct2_out)   # English text"
   ]
  },
  {
   "cell_type": "code",
   "execution_count": null,
   "id": "cef111ec",
   "metadata": {},
   "outputs": [],
   "source": []
  }
 ],
 "metadata": {
  "kernelspec": {
   "display_name": "Python 3",
   "language": "python",
   "name": "python3"
  },
  "language_info": {
   "codemirror_mode": {
    "name": "ipython",
    "version": 3
   },
   "file_extension": ".py",
   "mimetype": "text/x-python",
   "name": "python",
   "nbconvert_exporter": "python",
   "pygments_lexer": "ipython3",
   "version": "3.10.9"
  }
 },
 "nbformat": 4,
 "nbformat_minor": 5
}
