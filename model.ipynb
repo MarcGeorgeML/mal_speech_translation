{
 "cells": [
  {
   "cell_type": "code",
   "execution_count": 1,
   "id": "e6d2e05c",
   "metadata": {},
   "outputs": [
    {
     "name": "stdout",
     "output_type": "stream",
     "text": [
      "CUDA is NOT available. Using CPU.\n"
     ]
    }
   ],
   "source": [
    "import torch\n",
    "\n",
    "if torch.cuda.is_available():\n",
    "    print(\"CUDA is available. GPU in use:\", torch.cuda.get_device_name(0))\n",
    "else:\n",
    "    print(\"CUDA is NOT available. Using CPU.\")"
   ]
  },
  {
   "cell_type": "code",
   "execution_count": null,
   "id": "9e77ba06",
   "metadata": {},
   "outputs": [],
   "source": [
    "import torch\n",
    "torch.cuda.empty_cache()"
   ]
  },
  {
   "cell_type": "markdown",
   "id": "dfb9799d",
   "metadata": {},
   "source": [
    "### Loading the model and transcribing the sample_audio"
   ]
  },
  {
   "cell_type": "code",
   "execution_count": 18,
   "id": "354b5df1",
   "metadata": {},
   "outputs": [
    {
     "data": {
      "application/vnd.jupyter.widget-view+json": {
       "model_id": "6e9208ef31d4431784414414840436a9",
       "version_major": 2,
       "version_minor": 0
      },
      "text/plain": [
       "Fetching 4 files:   0%|          | 0/4 [00:00<?, ?it/s]"
      ]
     },
     "metadata": {},
     "output_type": "display_data"
    }
   ],
   "source": [
    "# c2t model loading example\n",
    "import whisper_s2t\n",
    "from whisper_s2t.backends.ctranslate2.model import BEST_ASR_CONFIG\n",
    "\n",
    "\n",
    "# model_kwargs = {\n",
    "#     'device': 'cpu',  # Use 'cpu' if you don't have a GPU\n",
    "#     'compute_type': 'int8', # Note int8 is only supported for CTranslate2 backend, for others only float16 is supported for lower precision.\n",
    "#     'asr_options': BEST_ASR_CONFIG\n",
    "# }\n",
    "\n",
    "\n",
    "\n",
    "ct2_model = whisper_s2t.load_model(\n",
    "    model_identifier=\"large-v2\", \n",
    "    backend='CTranslate2', \n",
    "    compute_type='int8',  # Best for CUDA\n",
    "    device='cpu',\n",
    "    asr_options=BEST_ASR_CONFIG,\n",
    ")"
   ]
  },
  {
   "cell_type": "code",
   "execution_count": 19,
   "id": "718e5921",
   "metadata": {},
   "outputs": [
    {
     "name": "stdout",
     "output_type": "stream",
     "text": [
      "Loaded audio shape: (273600,), Sample Rate: 48000\n",
      "Estimated speech rate: 4.39 onsets/sec\n",
      "Speech rate is normal.\n",
      "Original length: 273600, Processed length: 273600\n",
      "RMS dB level: -17.59 dBFS\n",
      "Saved merged processed audio to output.wav\n"
     ]
    }
   ],
   "source": [
    "import importlib\n",
    "import split_and_preprocess\n",
    "importlib.reload(split_and_preprocess)\n",
    "from split_and_preprocess import process_chunks\n",
    "\n",
    "\n",
    "output_path = \"output.wav\"\n",
    "audio_path = \"test.wav\"\n",
    "\n",
    "# Process and merge audio chunks\n",
    "merged_audio, sr = process_chunks(audio_path, output_path, chunk_duration=30)"
   ]
  },
  {
   "cell_type": "code",
   "execution_count": 17,
   "id": "1886a510",
   "metadata": {},
   "outputs": [
    {
     "name": "stderr",
     "output_type": "stream",
     "text": [
      "Transcribing: 100%|██████████| 100/100 [00:51<00:00,  1.93it/s]"
     ]
    },
    {
     "name": "stdout",
     "output_type": "stream",
     "text": [
      "c2t English translation:\n",
      "[[{'text': 'I wish you all the best.', 'avg_logprob': -0.718155674636364, 'no_speech_prob': 0.2597784101963043, 'start_time': np.float64(0.9), 'end_time': np.float64(5.12)}]]\n"
     ]
    },
    {
     "name": "stderr",
     "output_type": "stream",
     "text": [
      "\n"
     ]
    }
   ],
   "source": [
    "lang_codes = ['ml']\n",
    "initial_prompts = [None]\n",
    "# Direct Malayalam-to-English translation\n",
    "tasks = ['translate']\n",
    "\n",
    "\n",
    "files = [output_path]\n",
    "    \n",
    "ct2_out = ct2_model.transcribe_with_vad(\n",
    "        files,\n",
    "        lang_codes=lang_codes,\n",
    "        tasks=tasks,\n",
    "        initial_prompts=initial_prompts,\n",
    "        batch_size=16\n",
    "    )\n",
    "\n",
    "    # cleaned_segments = [\n",
    "    #     seg.text for seg in segments\n",
    "    #     if getattr(seg, \"avg_logprob\", None) is not None and seg.avg_logprob > -1.0 and getattr(seg, \"no_speech_prob\", 1.0) < 0.5\n",
    "    # ]\n",
    "    # cleaned_transcript = \" \".join(cleaned_segments)\n",
    "\n",
    "print(\"c2t English translation:\")\n",
    "print(ct2_out)   # English text"
   ]
  },
  {
   "cell_type": "code",
   "execution_count": null,
   "id": "cef111ec",
   "metadata": {},
   "outputs": [],
   "source": []
  }
 ],
 "metadata": {
  "kernelspec": {
   "display_name": "mals2t",
   "language": "python",
   "name": "python3"
  },
  "language_info": {
   "codemirror_mode": {
    "name": "ipython",
    "version": 3
   },
   "file_extension": ".py",
   "mimetype": "text/x-python",
   "name": "python",
   "nbconvert_exporter": "python",
   "pygments_lexer": "ipython3",
   "version": "3.10.18"
  }
 },
 "nbformat": 4,
 "nbformat_minor": 5
}
