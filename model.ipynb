{
 "cells": [
  {
   "cell_type": "markdown",
   "id": "dfb9799d",
   "metadata": {},
   "source": [
    "### Loading the model and transcribing the sample_audio"
   ]
  },
  {
   "cell_type": "code",
   "execution_count": 9,
   "id": "354b5df1",
   "metadata": {},
   "outputs": [
    {
     "name": "stdout",
     "output_type": "stream",
     "text": [
      "'ffmpeg' is not built with soxr resampler, using 'swr' resampler. This may degrade performance.\n"
     ]
    },
    {
     "name": "stderr",
     "output_type": "stream",
     "text": [
      "e:\\anaconda3\\envs\\mals2t\\lib\\site-packages\\ctranslate2\\__init__.py:8: UserWarning: pkg_resources is deprecated as an API. See https://setuptools.pypa.io/en/latest/pkg_resources.html. The pkg_resources package is slated for removal as early as 2025-11-30. Refrain from using this package or pin to Setuptools<81.\n",
      "  import pkg_resources\n"
     ]
    },
    {
     "data": {
      "application/vnd.jupyter.widget-view+json": {
       "model_id": "552f32b64e7944e4a9236408bd53b251",
       "version_major": 2,
       "version_minor": 0
      },
      "text/plain": [
       "Fetching 4 files:   0%|          | 0/4 [00:00<?, ?it/s]"
      ]
     },
     "metadata": {},
     "output_type": "display_data"
    },
    {
     "name": "stderr",
     "output_type": "stream",
     "text": [
      "e:\\anaconda3\\envs\\mals2t\\lib\\site-packages\\whisper_s2t\\speech_segmenter\\frame_vad.py:74: FutureWarning: `torch.cuda.amp.autocast(args...)` is deprecated. Please use `torch.amp.autocast('cuda', args...)` instead.\n",
      "  @torch.cuda.amp.autocast()\n",
      "e:\\anaconda3\\envs\\mals2t\\lib\\site-packages\\torch\\amp\\autocast_mode.py:266: UserWarning: User provided device_type of 'cuda', but CUDA is not available. Disabling\n",
      "  warnings.warn(\n"
     ]
    }
   ],
   "source": [
    "# c2t model loading example\n",
    "import whisper_s2t\n",
    "from whisper_s2t.backends.ctranslate2.model import BEST_ASR_CONFIG\n",
    "\n",
    "\n",
    "# model_kwargs = {\n",
    "#     'device': 'cpu',  # Use 'cpu' if you don't have a GPU\n",
    "#     'compute_type': 'int8', # Note int8 is only supported for CTranslate2 backend, for others only float16 is supported for lower precision.\n",
    "#     'asr_options': BEST_ASR_CONFIG\n",
    "# }\n",
    "\n",
    "\n",
    "\n",
    "ct2_model = whisper_s2t.load_model(model_identifier=\"large-v2\", \n",
    "                                   backend='CTranslate2', \n",
    "                                   compute_type='int8', \n",
    "                                   device='cpu',\n",
    "                                   asr_options=BEST_ASR_CONFIG,\n",
    "                                )"
   ]
  },
  {
   "cell_type": "code",
   "execution_count": null,
   "id": "6be10c0e",
   "metadata": {},
   "outputs": [],
   "source": [
    "\n",
    "audio_path = \"test2.wav\"\n",
    "files = [audio_path]\n",
    "lang_codes = ['ml']\n",
    "initial_prompts = [None]\n",
    "# Direct Malayalam-to-English translation\n",
    "tasks = ['translate']\n",
    "\n",
    "ct2_out = ct2_model.transcribe_with_vad(\n",
    "    files,\n",
    "    lang_codes=lang_codes,\n",
    "    tasks=tasks,\n",
    "    initial_prompts=initial_prompts,\n",
    "    batch_size=16\n",
    ")\n",
    "\n",
    "# segments = ct2_out[0]  # Get the segments from the first file's output\n",
    "\n",
    "# cleaned_segments = [\n",
    "#     seg.text for seg in segments\n",
    "#     if getattr(seg, \"avg_logprob\", None) is not None and seg.avg_logprob > -1.0 and getattr(seg, \"no_speech_prob\", 1.0) < 0.5\n",
    "# ]\n",
    "# cleaned_transcript = \" \".join(cleaned_segments)\n",
    "\n",
    "print(\"c2t English translation:\")\n",
    "print(ct2_out[0][0])   # English text"
   ]
  },
  {
   "cell_type": "code",
   "execution_count": null,
   "id": "718e5921",
   "metadata": {},
   "outputs": [
    {
     "name": "stdout",
     "output_type": "stream",
     "text": [
      "Loaded audio shape: (201600,), Sample Rate: 48000\n",
      "Estimated speech rate: 3.81 onsets/sec\n",
      "Speech rate is normal.\n",
      "Original length: 201600, Processed length: 201600\n",
      "RMS dB level: -16.89 dBFS\n"
     ]
    }
   ],
   "source": [
    "import importlib\n",
    "import librosa\n",
    "import soundfile as sf\n",
    "import preprocess \n",
    "importlib.reload(preprocess)\n",
    "\n",
    "output_path = \"output.wav\"\n",
    "audio_path = \"test2.wav\"\n",
    "\n",
    "audio, sr = preprocess.preprocess_audio(\n",
    "    \"test2.wav\",\n",
    "    \"output.wav\",\n",
    ")\n"
   ]
  },
  {
   "cell_type": "code",
   "execution_count": null,
   "id": "1886a510",
   "metadata": {},
   "outputs": [],
   "source": [
    "import soundfile as sf\n",
    "import tempfile\n",
    "import numpy as np\n",
    "\n",
    "lang_codes = ['ml']\n",
    "initial_prompts = [None]\n",
    "# Direct Malayalam-to-English translation\n",
    "tasks = ['translate']\n",
    "\n",
    "\n",
    "files = [\"output.wav\"]\n",
    "    \n",
    "ct2_out = ct2_model.transcribe_with_vad(\n",
    "        files,\n",
    "        lang_codes=lang_codes,\n",
    "        tasks=tasks,\n",
    "        initial_prompts=initial_prompts,\n",
    "        batch_size=16\n",
    "    )\n",
    "\n",
    "    # cleaned_segments = [\n",
    "    #     seg.text for seg in segments\n",
    "    #     if getattr(seg, \"avg_logprob\", None) is not None and seg.avg_logprob > -1.0 and getattr(seg, \"no_speech_prob\", 1.0) < 0.5\n",
    "    # ]\n",
    "    # cleaned_transcript = \" \".join(cleaned_segments)\n",
    "\n",
    "print(\"c2t English translation:\")\n",
    "print(ct2_out)   # English text"
   ]
  }
 ],
 "metadata": {
  "kernelspec": {
   "display_name": "Python 3",
   "language": "python",
   "name": "python3"
  },
  "language_info": {
   "codemirror_mode": {
    "name": "ipython",
    "version": 3
   },
   "file_extension": ".py",
   "mimetype": "text/x-python",
   "name": "python",
   "nbconvert_exporter": "python",
   "pygments_lexer": "ipython3",
   "version": "3.10.18"
  }
 },
 "nbformat": 4,
 "nbformat_minor": 5
}
