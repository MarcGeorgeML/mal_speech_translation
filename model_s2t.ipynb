{
 "cells": [
  {
   "cell_type": "code",
   "execution_count": 1,
   "id": "e6d2e05c",
   "metadata": {},
   "outputs": [
    {
     "name": "stdout",
     "output_type": "stream",
     "text": [
      "CUDA is NOT available. Using CPU.\n"
     ]
    }
   ],
   "source": [
    "import torch\n",
    "\n",
    "if torch.cuda.is_available():\n",
    "    print(\"CUDA is available. GPU in use:\", torch.cuda.get_device_name(0))\n",
    "else:\n",
    "    print(\"CUDA is NOT available. Using CPU.\")"
   ]
  },
  {
   "cell_type": "code",
   "execution_count": 2,
   "id": "27d1cd70",
   "metadata": {},
   "outputs": [
    {
     "name": "stdout",
     "output_type": "stream",
     "text": [
      "'ffmpeg' is not built with soxr resampler, using 'swr' resampler. This may degrade performance.\n"
     ]
    },
    {
     "name": "stderr",
     "output_type": "stream",
     "text": [
      "e:\\anaconda3\\envs\\mals2t\\lib\\site-packages\\ctranslate2\\__init__.py:8: UserWarning: pkg_resources is deprecated as an API. See https://setuptools.pypa.io/en/latest/pkg_resources.html. The pkg_resources package is slated for removal as early as 2025-11-30. Refrain from using this package or pin to Setuptools<81.\n",
      "  import pkg_resources\n"
     ]
    }
   ],
   "source": [
    "# Importing gemma7b model\n",
    "from transformers import AutoTokenizer, AutoModelForCausalLM\n",
    "from transformers.utils.quantization_config import BitsAndBytesConfig\n",
    "\n",
    "# c2t model loading example\n",
    "import whisper_s2t\n",
    "from whisper_s2t.backends.ctranslate2.model import BEST_ASR_CONFIG\n",
    "\n",
    "#preprocessing audio\n",
    "import importlib\n",
    "import split_and_preprocess\n",
    "importlib.reload(split_and_preprocess)\n",
    "from split_and_preprocess import process_chunks"
   ]
  },
  {
   "cell_type": "code",
   "execution_count": 3,
   "id": "297ef316",
   "metadata": {},
   "outputs": [],
   "source": [
    "# determine the device\n",
    "device = \"cuda\" if torch.cuda.is_available() else \"cpu\""
   ]
  },
  {
   "cell_type": "markdown",
   "id": "dfb9799d",
   "metadata": {},
   "source": [
    "### Loading the whisper model"
   ]
  },
  {
   "cell_type": "code",
   "execution_count": null,
   "id": "354b5df1",
   "metadata": {},
   "outputs": [
    {
     "data": {
      "application/vnd.jupyter.widget-view+json": {
       "model_id": "48a6b76fe3874aafa667db16edda99fa",
       "version_major": 2,
       "version_minor": 0
      },
      "text/plain": [
       "Fetching 4 files:   0%|          | 0/4 [00:00<?, ?it/s]"
      ]
     },
     "metadata": {},
     "output_type": "display_data"
    }
   ],
   "source": [
    "ct2_model = whisper_s2t.load_model(\n",
    "    model_identifier=\"large-v2\", \n",
    "    backend='CTranslate2', \n",
    "    compute_type='int8',  # Best for cpu\n",
    "    device=device,\n",
    "    asr_options=BEST_ASR_CONFIG,\n",
    ")"
   ]
  },
  {
   "cell_type": "markdown",
   "id": "5fb97f38",
   "metadata": {},
   "source": [
    "### Loading Gemma7b"
   ]
  },
  {
   "cell_type": "code",
   "execution_count": null,
   "id": "800d7d96",
   "metadata": {},
   "outputs": [],
   "source": [
    "tokenizer = AutoTokenizer.from_pretrained(\"google/gemma-7b-it\")\n",
    "llm_model = AutoModelForCausalLM.from_pretrained(\"google/gemma-7b-it\")\n",
    "llm_model = llm_model.to(device)"
   ]
  },
  {
   "cell_type": "markdown",
   "id": "a5a72cf8",
   "metadata": {},
   "source": [
    "#### Preprocessing"
   ]
  },
  {
   "cell_type": "code",
   "execution_count": null,
   "id": "718e5921",
   "metadata": {},
   "outputs": [],
   "source": [
    "output_path = \"output.wav\"\n",
    "audio_path = \"test.wav\"\n",
    "\n",
    "# Process and merge audio chunks\n",
    "merged_audio, sr = process_chunks(audio_path, output_path, chunk_duration=30)"
   ]
  },
  {
   "cell_type": "markdown",
   "id": "f5817847",
   "metadata": {},
   "source": [
    "### Translation using whisper model"
   ]
  },
  {
   "cell_type": "code",
   "execution_count": null,
   "id": "1886a510",
   "metadata": {},
   "outputs": [],
   "source": [
    "lang_codes = ['ml']\n",
    "initial_prompts = [None]\n",
    "# Direct Malayalam-to-English translation\n",
    "tasks = ['translate']\n",
    "\n",
    "output_path = \"output.wav\"\n",
    "files = [output_path]\n",
    "    \n",
    "ct2_out = ct2_model.transcribe_with_vad(\n",
    "        files,\n",
    "        lang_codes=lang_codes,\n",
    "        tasks=tasks,\n",
    "        initial_prompts=initial_prompts,\n",
    "        batch_size=16\n",
    "    )\n",
    "\n",
    "    # cleaned_segments = [\n",
    "    #     seg.text for seg in segments\n",
    "    #     if getattr(seg, \"avg_logprob\", None) is not None and seg.avg_logprob > -1.0 and getattr(seg, \"no_speech_prob\", 1.0) < 0.5\n",
    "    # ]\n",
    "    # cleaned_transcript = \" \".join(cleaned_segments)\n",
    "\n",
    "print(\"c2t English translation:\")\n",
    "print(ct2_out[0][0]['text'])   # English text"
   ]
  },
  {
   "cell_type": "markdown",
   "id": "feb632ae",
   "metadata": {},
   "source": [
    "### Further refining translated text using another llm"
   ]
  },
  {
   "cell_type": "code",
   "execution_count": null,
   "id": "1b7fadce",
   "metadata": {},
   "outputs": [],
   "source": [
    "# Craft a prompt with instructions and context\n",
    "input_text = (\n",
    "    \"You are an expert translator who can translate malayalam to english. \"\n",
    "    \"Given the following sentence, make it more sensible and fluent in English. \"\n",
    "    \"If the sentence does not make sense, use the words in the sentence to form the most plausible translation that makes sense. \"\n",
    "    \"The translation must be such that if its translated back to malayalam, we get a similar sentence as the original malayalam sentence. \"\n",
    "    \"Here is the sentence:\\n\"\n",
    "    f\"{ct2_out[0][0]['text']}\\n\"\n",
    "    \"Improved translation:\"\n",
    ")\n",
    "# Generate the improved translation\n",
    "input_ids = tokenizer(input_text, return_tensors=\"pt\").to(device)\n",
    "outputs = llm_model.generate(**input_ids)\n",
    "improved_translation = tokenizer.decode(outputs[0], skip_special_tokens=True)\n",
    "print(tokenizer.decode(outputs[0]))"
   ]
  },
  {
   "cell_type": "code",
   "execution_count": null,
   "id": "0debbff9",
   "metadata": {},
   "outputs": [],
   "source": []
  }
 ],
 "metadata": {
  "kernelspec": {
   "display_name": "Python 3",
   "language": "python",
   "name": "python3"
  },
  "language_info": {
   "codemirror_mode": {
    "name": "ipython",
    "version": 3
   },
   "file_extension": ".py",
   "mimetype": "text/x-python",
   "name": "python",
   "nbconvert_exporter": "python",
   "pygments_lexer": "ipython3",
   "version": "3.10.18"
  }
 },
 "nbformat": 4,
 "nbformat_minor": 5
}
